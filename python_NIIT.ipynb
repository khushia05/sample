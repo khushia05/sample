{
  "cells": [
    {
      "cell_type": "markdown",
      "source": [],
      "metadata": {
        "id": "L-sRodaHkgZc"
      }
    },
    {
      "cell_type": "markdown",
      "source": [
        "DAY-1"
      ],
      "metadata": {
        "id": "xopqpj1nkibX"
      }
    },
    {
      "cell_type": "markdown",
      "source": [
        "BASIC CALCULATOR"
      ],
      "metadata": {
        "id": "_EwlwcQHkxDN"
      }
    },
    {
      "cell_type": "code",
      "execution_count": null,
      "metadata": {
        "id": "9O82QcDX2cQr"
      },
      "outputs": [],
      "source": [
        "a=int(input(\"enter a first no\"))\n",
        "b=int(input(\"enter a second no\"))\n",
        "print(\"sum:\",a+b)\n",
        "print(\"sub:\",a-b)\n",
        "print(\"multiplication:\",a*b)\n",
        "print(\"division:\",a//b)\n",
        "print(\"modulo division:\",a%b)\n",
        "print(\"exponent of a:\",a**b)\n"
      ]
    },
    {
      "cell_type": "markdown",
      "source": [
        "FIND COMPOUND INTERSET"
      ],
      "metadata": {
        "id": "DpeYa4QUk2-G"
      }
    },
    {
      "cell_type": "code",
      "execution_count": null,
      "metadata": {
        "id": "EkhUMwRx6CLi"
      },
      "outputs": [],
      "source": [
        "p=int(input(\"enter the principal amount\"))\n",
        "t=int(input(\"enter the time\"))\n",
        "r=int(input(\"enter the rate\"))\n",
        "a=p*(1+(r/100))**t\n",
        "ci=a-p\n",
        "print(ci)\n"
      ]
    },
    {
      "cell_type": "markdown",
      "source": [],
      "metadata": {
        "id": "KuhFZJ_7k-f3"
      }
    },
    {
      "cell_type": "markdown",
      "source": [
        "MENU DIRVEN CALCULATOR"
      ],
      "metadata": {
        "id": "Zmcbb_prlBaU"
      }
    },
    {
      "cell_type": "code",
      "execution_count": null,
      "metadata": {
        "id": "Zlng-8ymE-z1"
      },
      "outputs": [],
      "source": [
        "\n",
        "def add(a, b):\n",
        "    sum = a + b\n",
        "    print(a, \"+\", b, \"=\", sum)\n",
        "\n",
        "def subtract(a, b):\n",
        "    difference = a - b\n",
        "    print(a, \"-\", b, \"=\", difference)\n",
        "\n",
        "def multiply(a, b):\n",
        "    product = a * b\n",
        "    print(a, \"x\", b, \"=\", product)\n",
        "\n",
        "\n",
        "def divide(a, b):\n",
        "    division = a / b\n",
        "    print(a, \"/\", b, \"=\", division)\n",
        "\n",
        "\n",
        "while True:\n",
        "    print(\"\\nMENU\")\n",
        "    print(\"1. Sum of two Numbers\")\n",
        "    print(\"2. Difference between two Numbers\")\n",
        "    print(\"3. Product of two Numbers\")\n",
        "    print(\"4. Division of two Numbers\")\n",
        "    print(\"5. Exit\")\n",
        "    choice = int(input(\"\\nEnter the Choice: \"))\n",
        "\n",
        "    if choice == 1:\n",
        "        print( \"\\nADDITION\\n\")\n",
        "        a = int( input(\"First Number: \"))\n",
        "        b = int( input(\"Second Number: \"))\n",
        "        add(a, b)\n",
        "\n",
        "    elif choice == 2:\n",
        "        print( \"\\nSUBTRACTION\\n\")\n",
        "        a = int( input(\"First Number: \"))\n",
        "        b = int( input(\"Second Number: \"))\n",
        "        subtract(a, b)\n",
        "\n",
        "    elif choice == 3:\n",
        "        print( \"\\nMULTIPLICATION\\n\")\n",
        "        a = int( input(\"First Number: \"))\n",
        "        b = int( input(\"Second Number: \"))\n",
        "        multiply(a, b)\n",
        "\n",
        "    elif choice == 4:\n",
        "        print( \"\\nDIVISION\\n\")\n",
        "        a = int( input(\"First Number: \"))\n",
        "        b = int( input(\"Second Number: \"))\n",
        "        divide(a, b)\n",
        "\n",
        "    elif choice == 5:\n",
        "        break\n",
        "\n",
        "    else:\n",
        "        print( \"Please Provide a valid Input!\")\n",
        "\n",
        "\n",
        "\n"
      ]
    },
    {
      "cell_type": "markdown",
      "source": [
        "prime no 1 to 100"
      ],
      "metadata": {
        "id": "6ZM4Ecv3tkFa"
      }
    },
    {
      "cell_type": "code",
      "execution_count": null,
      "metadata": {
        "id": "R3rwXMKt9zeJ"
      },
      "outputs": [],
      "source": [
        "\n",
        "for i in range(2,101):\n",
        "   for j in range(2,101):\n",
        "       if(i%j==0):\n",
        "           break\n",
        "   if(i==j):\n",
        "      print(i)"
      ]
    },
    {
      "cell_type": "markdown",
      "source": [
        "factorial\n"
      ],
      "metadata": {
        "id": "2JNs20t6twYF"
      }
    },
    {
      "cell_type": "code",
      "source": [
        "def fact(n):\n",
        "    f=1\n",
        "    for i in range(1,n+1):\n",
        "        f=f*i\n",
        "    return f\n",
        "n=int(input(\"enter the no\"))\n",
        "print(f\"{n} factorial is:\",fact(n))"
      ],
      "metadata": {
        "id": "wNyf7egOM4Yt"
      },
      "execution_count": null,
      "outputs": []
    },
    {
      "cell_type": "markdown",
      "source": [
        "[(2, 8), (3, 27), (4, 64)]\n"
      ],
      "metadata": {
        "id": "S4HEtsUUuUKi"
      }
    },
    {
      "cell_type": "code",
      "source": [
        "val=(input(\"enter multiple values\"))\n",
        "num1=[(int(i),int(i)** 3)for i in val.split()]\n",
        "print(num1)\n",
        "\n"
      ],
      "metadata": {
        "id": "jrXXMvyqU1fe",
        "colab": {
          "base_uri": "https://localhost:8080/"
        },
        "outputId": "cb21852e-1439-4129-a8a4-0c685478ab84"
      },
      "execution_count": null,
      "outputs": [
        {
          "output_type": "stream",
          "name": "stdout",
          "text": [
            "enter multiple values2 3 4\n",
            "[(2, 8), (3, 27), (4, 64)]\n"
          ]
        }
      ]
    },
    {
      "cell_type": "code",
      "source": [
        "keys = ['first_name', 'age', 'job', 'company']\n",
        "values = ['Jim', 23, 'developer', 'XYZ']\n",
        "\n",
        "result_dict = dict(zip(keys, values))\n",
        "\n",
        "print(result_dict)\n"
      ],
      "metadata": {
        "id": "QA1zt0idh-Qr"
      },
      "execution_count": null,
      "outputs": []
    },
    {
      "cell_type": "code",
      "execution_count": null,
      "metadata": {
        "id": "mY2gxngZB01u"
      },
      "outputs": [],
      "source": [
        "n=int(input(\"enter a no\"))\n",
        "flag=False\n",
        "if n==1:\n",
        "  print(\"number is not prime\")\n",
        "elif(n>1):\n",
        "    for i in range(2,n):\n",
        "       if(n%i==0):\n",
        "        flag=True\n",
        "        break\n",
        "if flag:\n",
        "    print(\"number is not prime\")\n",
        "else:\n",
        "    print(\"prime no\")"
      ]
    },
    {
      "cell_type": "markdown",
      "source": [
        "Assessment - 2"
      ],
      "metadata": {
        "id": "9MNNlGgPgyE3"
      }
    },
    {
      "cell_type": "markdown",
      "metadata": {
        "id": "UwzVX7wNAI2d"
      },
      "source": []
    },
    {
      "cell_type": "code",
      "source": [
        "val= {'khushi':4,'umang':2,'ayush':3,'shivangi':1}\n",
        "l=list(sorted(val.values()))\n",
        "print(l)\n",
        "m=[val for val in dict.items() for val in l]\n",
        "print(m)\n"
      ],
      "metadata": {
        "id": "auMCiZVThEbX",
        "colab": {
          "base_uri": "https://localhost:8080/",
          "height": 211
        },
        "outputId": "5ec5132a-f425-422d-eaad-7dc21335b190"
      },
      "execution_count": null,
      "outputs": [
        {
          "output_type": "stream",
          "name": "stdout",
          "text": [
            "[1, 2, 3, 4]\n"
          ]
        },
        {
          "output_type": "error",
          "ename": "TypeError",
          "evalue": "unbound method dict.items() needs an argument",
          "traceback": [
            "\u001b[0;31m---------------------------------------------------------------------------\u001b[0m",
            "\u001b[0;31mTypeError\u001b[0m                                 Traceback (most recent call last)",
            "\u001b[0;32m<ipython-input-23-ba96a115eb3f>\u001b[0m in \u001b[0;36m<cell line: 4>\u001b[0;34m()\u001b[0m\n\u001b[1;32m      2\u001b[0m \u001b[0ml\u001b[0m\u001b[0;34m=\u001b[0m\u001b[0mlist\u001b[0m\u001b[0;34m(\u001b[0m\u001b[0msorted\u001b[0m\u001b[0;34m(\u001b[0m\u001b[0mval\u001b[0m\u001b[0;34m.\u001b[0m\u001b[0mvalues\u001b[0m\u001b[0;34m(\u001b[0m\u001b[0;34m)\u001b[0m\u001b[0;34m)\u001b[0m\u001b[0;34m)\u001b[0m\u001b[0;34m\u001b[0m\u001b[0;34m\u001b[0m\u001b[0m\n\u001b[1;32m      3\u001b[0m \u001b[0mprint\u001b[0m\u001b[0;34m(\u001b[0m\u001b[0ml\u001b[0m\u001b[0;34m)\u001b[0m\u001b[0;34m\u001b[0m\u001b[0;34m\u001b[0m\u001b[0m\n\u001b[0;32m----> 4\u001b[0;31m \u001b[0mm\u001b[0m\u001b[0;34m=\u001b[0m\u001b[0;34m[\u001b[0m\u001b[0mval\u001b[0m \u001b[0;32mfor\u001b[0m \u001b[0mval\u001b[0m \u001b[0;32min\u001b[0m \u001b[0mdict\u001b[0m\u001b[0;34m.\u001b[0m\u001b[0mitems\u001b[0m\u001b[0;34m(\u001b[0m\u001b[0;34m)\u001b[0m \u001b[0;32mfor\u001b[0m \u001b[0mval\u001b[0m \u001b[0;32min\u001b[0m \u001b[0ml\u001b[0m\u001b[0;34m]\u001b[0m\u001b[0;34m\u001b[0m\u001b[0;34m\u001b[0m\u001b[0m\n\u001b[0m\u001b[1;32m      5\u001b[0m \u001b[0mprint\u001b[0m\u001b[0;34m(\u001b[0m\u001b[0mm\u001b[0m\u001b[0;34m)\u001b[0m\u001b[0;34m\u001b[0m\u001b[0;34m\u001b[0m\u001b[0m\n",
            "\u001b[0;31mTypeError\u001b[0m: unbound method dict.items() needs an argument"
          ]
        }
      ]
    },
    {
      "cell_type": "code",
      "source": [],
      "metadata": {
        "id": "ohnWOv64eRH4"
      },
      "execution_count": null,
      "outputs": []
    },
    {
      "cell_type": "code",
      "source": [
        "val={0: 10, 1: 20}\n",
        "val[2]=30\n",
        "print(val)"
      ],
      "metadata": {
        "id": "FYqR8_UoostW"
      },
      "execution_count": null,
      "outputs": []
    },
    {
      "cell_type": "code",
      "source": [
        "dict1={1:10, 2:20}\n",
        "dict2={3:30, 4:40}\n",
        "dict3={5:50,6:60}\n",
        "result = {}\n",
        "for i in (dict1, dict2, dict3):\n",
        "    result.update(i)\n",
        "print(result)\n"
      ],
      "metadata": {
        "id": "-Jq9tEeqpUmU"
      },
      "execution_count": null,
      "outputs": []
    },
    {
      "cell_type": "code",
      "source": [
        "val= {'khushi':1,'umang':2,'ayush':3,'shivangi':4}\n",
        "n=input(\"enter values\")\n",
        "if n in val.keys():\n",
        "  print(\"yes\")\n",
        "else:\n",
        "  print(\"not\")"
      ],
      "metadata": {
        "id": "PRhN9oUSszIT",
        "colab": {
          "base_uri": "https://localhost:8080/"
        },
        "outputId": "8be5f661-28b6-43be-cdca-826731c3f64f"
      },
      "execution_count": null,
      "outputs": [
        {
          "output_type": "stream",
          "name": "stdout",
          "text": [
            "enter valuesk\n",
            "not\n"
          ]
        }
      ]
    },
    {
      "cell_type": "markdown",
      "source": [
        "5. Write a Python script to generate and print a dictionary that contains a number (between 1 and n) in the form (x, x*x).\n",
        "Sample Dictionary ( n = 5) :\n",
        "Expected Output : {1: 1, 2: 4, 3: 9, 4: 16, 5: 25}"
      ],
      "metadata": {
        "id": "3SmigAjmuwCI"
      }
    },
    {
      "cell_type": "code",
      "source": [
        "n=int(input(\"enter no\"))\n",
        "sqr={i:i*i for i in range(1,n+1)}\n",
        "print(sqr)"
      ],
      "metadata": {
        "id": "Lhprp90WtgQy"
      },
      "execution_count": null,
      "outputs": []
    },
    {
      "cell_type": "markdown",
      "source": [
        "6. Write a Python script to print a dictionary where the keys are numbers between 1 and 15 (both included) and the values are the square of the keys.\n",
        "Sample Dictionary\n",
        "{1: 1, 2: 4, 3: 9, 4: 16, 5: 25, 6: 36, 7: 49, 8: 64, 9: 81, 10: 100, 11: 121, 12: 144, 13: 169, 14: 196, 15: 225}"
      ],
      "metadata": {
        "id": "DtNF4--Vu00L"
      }
    },
    {
      "cell_type": "code",
      "source": [
        "sqr={i:i*i for i in range(1,16)}\n",
        "print(sqr)"
      ],
      "metadata": {
        "id": "2dvABiRZzj3-"
      },
      "execution_count": null,
      "outputs": []
    },
    {
      "cell_type": "code",
      "source": [
        "Sample=[{\"V\":\"S001\"}, {\"V\": \"S002\"}, {\"VI\": \"S001\"}, {\"VI\": \"S005\"}, {\"VII\":\"S005\"}, {\"V\":\"S009\"},{\"VIII\":\"S007\"}]\n",
        "v = set(i for dic in Sample for i in dic.values())\n",
        "print(v)\n"
      ],
      "metadata": {
        "colab": {
          "base_uri": "https://localhost:8080/"
        },
        "id": "PU8-TefM2_9Z",
        "outputId": "07c898a2-f109-4e4c-ceed-5b220b0068b1"
      },
      "execution_count": null,
      "outputs": [
        {
          "output_type": "stream",
          "name": "stdout",
          "text": [
            "{'S007', 'S005', 'S002', 'S009', 'S001'}\n"
          ]
        }
      ]
    },
    {
      "cell_type": "code",
      "source": [
        "from collection import counter\n",
        "d1 = {'a': 100, 'b': 200, 'c':300}\n",
        "d2 = {'a': 300, 'b': 200, 'd':400}\n",
        "s= counter(d1) + counter(d2)\n",
        "print(s)"
      ],
      "metadata": {
        "id": "J98UjkpA1d6R"
      },
      "execution_count": null,
      "outputs": []
    },
    {
      "cell_type": "code",
      "source": [
        "a=(10,9,0,8,7)\n",
        "print(max(a))\n",
        "print(min(a))"
      ],
      "metadata": {
        "id": "NoK1VwF86G22"
      },
      "execution_count": null,
      "outputs": []
    },
    {
      "cell_type": "code",
      "source": [
        "tu=('k','i','s')\n",
        "s=\" \".join()\n",
        "print(s)"
      ],
      "metadata": {
        "colab": {
          "base_uri": "https://localhost:8080/"
        },
        "id": "fnmtzrL27Yik",
        "outputId": "492fd59a-9b5b-4119-c409-11be65cbcbb2"
      },
      "execution_count": null,
      "outputs": [
        {
          "output_type": "stream",
          "name": "stdout",
          "text": [
            "k i s\n"
          ]
        }
      ]
    },
    {
      "cell_type": "markdown",
      "source": [],
      "metadata": {
        "id": "3KxGDtmbiHLB"
      }
    },
    {
      "cell_type": "markdown",
      "source": [
        "DAY-3 (MODULES,PACKAGES) math,os,random\n"
      ],
      "metadata": {
        "id": "uT8EMAEMiJcA"
      }
    },
    {
      "cell_type": "code",
      "source": [
        "import math\n",
        "degree=float(input(\"enter the degree\"))\n",
        "radius=degree*(math.pi/180)\n",
        "print(radius)"
      ],
      "metadata": {
        "id": "M4nhyV9dhtRB"
      },
      "execution_count": null,
      "outputs": []
    },
    {
      "cell_type": "markdown",
      "source": [
        " AND ALL ARE IN VS CODE"
      ],
      "metadata": {
        "id": "dW8kN31LvonH"
      }
    }
  ],
  "metadata": {
    "colab": {
      "provenance": []
    },
    "kernelspec": {
      "display_name": "Python 3",
      "name": "python3"
    },
    "language_info": {
      "name": "python"
    }
  },
  "nbformat": 4,
  "nbformat_minor": 0
}